{
  "nbformat": 4,
  "nbformat_minor": 0,
  "metadata": {
    "colab": {
      "name": "HW1_Niu_Haoyang.ipynb",
      "provenance": [],
      "collapsed_sections": []
    },
    "kernelspec": {
      "name": "python3",
      "display_name": "Python 3"
    }
  },
  "cells": [
    {
      "cell_type": "markdown",
      "metadata": {
        "id": "hm8RAKinXsIP"
      },
      "source": [
        "## **Homework 1**\n",
        "\n",
        "### Create a copy of the notebook to start answering the questions. Name your notebook in the format HW1_lastname_firstname.ipynb to facilitate the grading process. \n",
        "\n",
        "### Answer all the questions, test your code to ensure there are no errors and the results are as expected. Once you have answered all the questions, save the final copy, then go to File-> click on Download.ipynb. Once the local copy has been downloaded, submit your file on Blackboard under the corresponding assignment section. Also provide us a link to your notebook during submission. \n",
        "\n",
        "### **The due date of this homework is 02/05/2021 (Friday).**\n",
        "\n",
        "### Please ensure you follow all the steps mentioned in the homework.\n",
        "\n",
        "### All the questions have a sample input and output to help you understand the question. Please note that your programs will be tested for other sets of inputs and outputs along with the sample provided. So test your code for other inputs.\n",
        "\n",
        "### You can submit your solutions any number of times until the deadline.\n"
      ]
    },
    {
      "cell_type": "markdown",
      "metadata": {
        "id": "uacFrEaZfcfq"
      },
      "source": [
        "##### Q1. Write a program that prompts the user to enter a password then prints the length of the password.\n",
        "\n",
        "```\n",
        "Enter your password: hello\n",
        "Your password is 5 long.\n",
        "```\n",
        "\n",
        "\n"
      ]
    },
    {
      "cell_type": "code",
      "metadata": {
        "id": "avPyES14ftCt",
        "colab": {
          "base_uri": "https://localhost:8080/"
        },
        "outputId": "4e9d9a0e-4efc-4f9c-a7b5-9662d2845c18"
      },
      "source": [
        "# Type solution here\n",
        "p = str(input(\"Enter your password: \"))\n",
        "print(\"Your password is\",len(p),\"long.\")"
      ],
      "execution_count": 95,
      "outputs": [
        {
          "output_type": "stream",
          "text": [
            "Enter your password: Kevinadwa\n",
            "Your password is 9 long.\n"
          ],
          "name": "stdout"
        }
      ]
    },
    {
      "cell_type": "markdown",
      "metadata": {
        "id": "ekh-kABuItli"
      },
      "source": [
        ""
      ]
    },
    {
      "cell_type": "markdown",
      "metadata": {
        "id": "K1yko-xUItU3"
      },
      "source": [
        ""
      ]
    },
    {
      "cell_type": "markdown",
      "metadata": {
        "id": "behD0j_Of2TW"
      },
      "source": [
        "##### Q2. Write a program that prompts the user to enter their full name then prints the number of characters in their name (do not count spaces).\n",
        "\n",
        "```\n",
        "What is your name? Amulya Katti\n",
        "Amulya Katti your name has 11 characters.\n",
        "```"
      ]
    },
    {
      "cell_type": "code",
      "metadata": {
        "id": "XSdIRjwlhSlu",
        "colab": {
          "base_uri": "https://localhost:8080/"
        },
        "outputId": "7c4b7604-bbac-4aca-c318-0ff7fdda6442"
      },
      "source": [
        "# Type solution here\n",
        "\n",
        "name = input(\"What is your name? \")\n",
        "num = 0\n",
        "for ch in name:\n",
        "  \n",
        "  num += 1\n",
        "\n",
        "print(name,\"your name has\",num - name.count(\" \"),\"characters. \")\n"
      ],
      "execution_count": null,
      "outputs": [
        {
          "output_type": "stream",
          "text": [
            "What is your name? K K k E v IN J\n",
            "K K k E v IN J your name has 8 characters. \n"
          ],
          "name": "stdout"
        }
      ]
    },
    {
      "cell_type": "markdown",
      "metadata": {
        "id": "5KHOWF6FhVHV"
      },
      "source": [
        "##### Q3. Write a program that prompts the user to enter a month (as a number), then prints the name of the month and the number of days in that month. Ensure that the user inputs a valid month and handle any error cases.\n",
        "\n",
        "```\n",
        "Enter the month number: 9\n",
        "September has 30 days\n",
        "```"
      ]
    },
    {
      "cell_type": "code",
      "metadata": {
        "id": "KhS-SAEThyTG",
        "colab": {
          "base_uri": "https://localhost:8080/"
        },
        "outputId": "88d89cf9-95df-4e4d-c473-0be48154dcf8"
      },
      "source": [
        "# Type solution here\n",
        "month = [\"January\",\"February\",\"March\",\"April\",\"May\",\"June\",\"July\",\"August\",\"September\",\"October\",\"November\",\"December\"]\n",
        "days = [31,28,31,30,31,30,31,31,30,31,30,31]\n",
        "\n",
        "num = (input(\"Enter the month number: \"))\n",
        "while num.isdigit() is False or int(num)>12 or int(num) < 1: \n",
        "  num= input(\"please enter a correct number:\")\n",
        "\n",
        "print(month[(int(num)-1)],\"has\",days[(int(num)-1)],\"days.\")\n"
      ],
      "execution_count": null,
      "outputs": [
        {
          "output_type": "stream",
          "text": [
            "Enter the month number: 231\n",
            "please enter a correct number:f\n",
            "please enter a correct number:\n",
            "please enter a correct number:dd\n",
            "please enter a correct number:133\n",
            "please enter a correct number:f3\n",
            "please enter a correct number: \n",
            "please enter a correct number:8\n",
            "August has 31 days.\n"
          ],
          "name": "stdout"
        }
      ]
    },
    {
      "cell_type": "markdown",
      "metadata": {
        "id": "O7lnAdGlh6Xa"
      },
      "source": [
        "##### Q4. Write a program that prompts the user to enter a loan amount, annual interest rate, and number of years  for a car loan. Then calculate and print the monthly payment amount.\n",
        "\n",
        "Note:\n",
        "```\n",
        "PMT= [PV*i*((1+i)^n)]/[((1+i)^n)-1]\n",
        "```\n",
        "PMT is the monthly payment\n",
        "\n",
        "PV is the loan amount\n",
        "\n",
        "i is the interest rate per month in decimal form (interest rate percentage divided by 12)\n",
        "\n",
        "n is the number of months (term of the loan in months)\n",
        "\n",
        "```\n",
        "Loan Amount: 30000.00\n",
        "Annual Interest Rate: 4.00\n",
        "Years: 5\n",
        "Your monthly payment is: $552.50\n",
        "```"
      ]
    },
    {
      "cell_type": "code",
      "metadata": {
        "id": "p4B5JH5GiTs9",
        "colab": {
          "base_uri": "https://localhost:8080/"
        },
        "outputId": "d38e3268-bc70-45b9-cd98-3c9be3bce3aa"
      },
      "source": [
        "# Type solution here\n",
        "PV = float(input(\"Please enter the loan amount: \"))\n",
        "i = float(input(\"Please enter the annual interest rate: \"))/1200\n",
        "n = float(input(\"Please enter the years: \"))*12\n",
        "\n",
        "print(\"Your monthly payment is: $\",(PV*i*((1+i)**n))/(((1+i)**n)-1))\n"
      ],
      "execution_count": 96,
      "outputs": [
        {
          "output_type": "stream",
          "text": [
            "Please enter the loan amount: 5000\n",
            "Please enter the annual interest rate: 10\n",
            "Please enter the years: 2\n",
            "Your monthly payment is: $ 230.72463168758327\n"
          ],
          "name": "stdout"
        }
      ]
    },
    {
      "cell_type": "markdown",
      "metadata": {
        "id": "SjiolJKgiWV-"
      },
      "source": [
        "##### Q5. Write a program to that prompts the user to enter a string. Then check whether or not the string is a palindrome.\n",
        "\n",
        "```\n",
        "Enter a string: Madam\n",
        "Madam, is a palindrome!\n",
        "```"
      ]
    },
    {
      "cell_type": "code",
      "metadata": {
        "id": "F5_M934Ri0es",
        "colab": {
          "base_uri": "https://localhost:8080/"
        },
        "outputId": "c7f68905-a6c9-427b-f3c2-9fd5e2323ee6"
      },
      "source": [
        "# Type solution here\n",
        "name = input(\"Enter a string: \")\n",
        "\n",
        "reverse = name[::-1]\n",
        "\n",
        "if reverse.lower()== name.lower():\n",
        "  print(name,\", is a palindrome! \")\n",
        "else: \n",
        "  print(\"Hi\",name)"
      ],
      "execution_count": 20,
      "outputs": [
        {
          "output_type": "stream",
          "text": [
            "Enter a string: Madam\n",
            "Madam , is a palindrome! \n"
          ],
          "name": "stdout"
        }
      ]
    },
    {
      "cell_type": "markdown",
      "metadata": {
        "id": "BLBD6n9vkJEu"
      },
      "source": [
        "##### Q6. Write a program to compute and print all possible combinations of change for \\$1. Denominations to be considered – quarter, dime, nickel, penny.\n",
        "\n",
        "Hint: Use nested loops (loops within loops for the various denominations of coins)\n",
        "\n",
        "```\n",
        "Change for $1:\n",
        "0 quarters, 0 dimes, 0 nickels, 100 pennies\n",
        "…\n",
        "4 quarters, 0 dimes, 0 nickels, 0 pennies\n",
        "```"
      ]
    },
    {
      "cell_type": "code",
      "metadata": {
        "id": "kAQsTjwDkZZ5",
        "colab": {
          "base_uri": "https://localhost:8080/"
        },
        "outputId": "a6a9d277-5611-40cf-f1c3-5fb74913516e"
      },
      "source": [
        "# Type solution here\n",
        "quarter = 0.25\n",
        "dime = 0.1\n",
        "nickel = 0.05\n",
        "penny = 0.01\n",
        "\n",
        "sum = 0 \n",
        "\n",
        "for num1 in range(0,5):\n",
        "  for num2 in range(0,11):\n",
        "    for num3 in range(0,21):\n",
        "      for num4 in range(0,101):\n",
        "        sum = (num1*quarter+num2*dime+num3*nickel+num4*penny)    \n",
        "        if sum == 1:\n",
        "          print(num1,\"quarters,\",num2,\"dimes,\",num3,\"nickels,\",num4,\"pennies.\")\n",
        "          "
      ],
      "execution_count": 46,
      "outputs": [
        {
          "output_type": "stream",
          "text": [
            "0 quarters, 0 dimes, 0 nickels, 100 pennies.\n",
            "0 quarters, 0 dimes, 1 nickels, 95 pennies.\n",
            "0 quarters, 0 dimes, 2 nickels, 90 pennies.\n",
            "0 quarters, 0 dimes, 3 nickels, 85 pennies.\n",
            "0 quarters, 0 dimes, 4 nickels, 80 pennies.\n",
            "0 quarters, 0 dimes, 5 nickels, 75 pennies.\n",
            "0 quarters, 0 dimes, 6 nickels, 70 pennies.\n",
            "0 quarters, 0 dimes, 7 nickels, 65 pennies.\n",
            "0 quarters, 0 dimes, 8 nickels, 60 pennies.\n",
            "0 quarters, 0 dimes, 9 nickels, 55 pennies.\n",
            "0 quarters, 0 dimes, 10 nickels, 50 pennies.\n",
            "0 quarters, 0 dimes, 11 nickels, 45 pennies.\n",
            "0 quarters, 0 dimes, 12 nickels, 40 pennies.\n",
            "0 quarters, 0 dimes, 13 nickels, 35 pennies.\n",
            "0 quarters, 0 dimes, 14 nickels, 30 pennies.\n",
            "0 quarters, 0 dimes, 15 nickels, 25 pennies.\n",
            "0 quarters, 0 dimes, 16 nickels, 20 pennies.\n",
            "0 quarters, 0 dimes, 17 nickels, 15 pennies.\n",
            "0 quarters, 0 dimes, 18 nickels, 10 pennies.\n",
            "0 quarters, 0 dimes, 19 nickels, 5 pennies.\n",
            "0 quarters, 0 dimes, 20 nickels, 0 pennies.\n",
            "0 quarters, 1 dimes, 0 nickels, 90 pennies.\n",
            "0 quarters, 1 dimes, 1 nickels, 85 pennies.\n",
            "0 quarters, 1 dimes, 2 nickels, 80 pennies.\n",
            "0 quarters, 1 dimes, 3 nickels, 75 pennies.\n",
            "0 quarters, 1 dimes, 4 nickels, 70 pennies.\n",
            "0 quarters, 1 dimes, 5 nickels, 65 pennies.\n",
            "0 quarters, 1 dimes, 6 nickels, 60 pennies.\n",
            "0 quarters, 1 dimes, 7 nickels, 55 pennies.\n",
            "0 quarters, 1 dimes, 8 nickels, 50 pennies.\n",
            "0 quarters, 1 dimes, 9 nickels, 45 pennies.\n",
            "0 quarters, 1 dimes, 10 nickels, 40 pennies.\n",
            "0 quarters, 1 dimes, 11 nickels, 35 pennies.\n",
            "0 quarters, 1 dimes, 12 nickels, 30 pennies.\n",
            "0 quarters, 1 dimes, 13 nickels, 25 pennies.\n",
            "0 quarters, 1 dimes, 14 nickels, 20 pennies.\n",
            "0 quarters, 1 dimes, 15 nickels, 15 pennies.\n",
            "0 quarters, 1 dimes, 16 nickels, 10 pennies.\n",
            "0 quarters, 1 dimes, 17 nickels, 5 pennies.\n",
            "0 quarters, 1 dimes, 18 nickels, 0 pennies.\n",
            "0 quarters, 2 dimes, 0 nickels, 80 pennies.\n",
            "0 quarters, 2 dimes, 1 nickels, 75 pennies.\n",
            "0 quarters, 2 dimes, 2 nickels, 70 pennies.\n",
            "0 quarters, 2 dimes, 3 nickels, 65 pennies.\n",
            "0 quarters, 2 dimes, 4 nickels, 60 pennies.\n",
            "0 quarters, 2 dimes, 5 nickels, 55 pennies.\n",
            "0 quarters, 2 dimes, 6 nickels, 50 pennies.\n",
            "0 quarters, 2 dimes, 7 nickels, 45 pennies.\n",
            "0 quarters, 2 dimes, 8 nickels, 40 pennies.\n",
            "0 quarters, 2 dimes, 9 nickels, 35 pennies.\n",
            "0 quarters, 2 dimes, 10 nickels, 30 pennies.\n",
            "0 quarters, 2 dimes, 11 nickels, 25 pennies.\n",
            "0 quarters, 2 dimes, 12 nickels, 20 pennies.\n",
            "0 quarters, 2 dimes, 13 nickels, 15 pennies.\n",
            "0 quarters, 2 dimes, 15 nickels, 5 pennies.\n",
            "0 quarters, 2 dimes, 16 nickels, 0 pennies.\n",
            "0 quarters, 3 dimes, 0 nickels, 70 pennies.\n",
            "0 quarters, 3 dimes, 1 nickels, 65 pennies.\n",
            "0 quarters, 3 dimes, 2 nickels, 60 pennies.\n",
            "0 quarters, 3 dimes, 3 nickels, 55 pennies.\n",
            "0 quarters, 3 dimes, 4 nickels, 50 pennies.\n",
            "0 quarters, 3 dimes, 5 nickels, 45 pennies.\n",
            "0 quarters, 3 dimes, 6 nickels, 40 pennies.\n",
            "0 quarters, 3 dimes, 8 nickels, 30 pennies.\n",
            "0 quarters, 3 dimes, 9 nickels, 25 pennies.\n",
            "0 quarters, 3 dimes, 10 nickels, 20 pennies.\n",
            "0 quarters, 3 dimes, 11 nickels, 15 pennies.\n",
            "0 quarters, 3 dimes, 13 nickels, 5 pennies.\n",
            "0 quarters, 3 dimes, 14 nickels, 0 pennies.\n",
            "0 quarters, 4 dimes, 0 nickels, 60 pennies.\n",
            "0 quarters, 4 dimes, 1 nickels, 55 pennies.\n",
            "0 quarters, 4 dimes, 2 nickels, 50 pennies.\n",
            "0 quarters, 4 dimes, 3 nickels, 45 pennies.\n",
            "0 quarters, 4 dimes, 4 nickels, 40 pennies.\n",
            "0 quarters, 4 dimes, 5 nickels, 35 pennies.\n",
            "0 quarters, 4 dimes, 6 nickels, 30 pennies.\n",
            "0 quarters, 4 dimes, 7 nickels, 25 pennies.\n",
            "0 quarters, 4 dimes, 8 nickels, 20 pennies.\n",
            "0 quarters, 4 dimes, 9 nickels, 15 pennies.\n",
            "0 quarters, 4 dimes, 10 nickels, 10 pennies.\n",
            "0 quarters, 4 dimes, 11 nickels, 5 pennies.\n",
            "0 quarters, 4 dimes, 12 nickels, 0 pennies.\n",
            "0 quarters, 5 dimes, 0 nickels, 50 pennies.\n",
            "0 quarters, 5 dimes, 1 nickels, 45 pennies.\n",
            "0 quarters, 5 dimes, 2 nickels, 40 pennies.\n",
            "0 quarters, 5 dimes, 3 nickels, 35 pennies.\n",
            "0 quarters, 5 dimes, 4 nickels, 30 pennies.\n",
            "0 quarters, 5 dimes, 5 nickels, 25 pennies.\n",
            "0 quarters, 5 dimes, 6 nickels, 20 pennies.\n",
            "0 quarters, 5 dimes, 7 nickels, 15 pennies.\n",
            "0 quarters, 5 dimes, 8 nickels, 10 pennies.\n",
            "0 quarters, 5 dimes, 9 nickels, 5 pennies.\n",
            "0 quarters, 5 dimes, 10 nickels, 0 pennies.\n",
            "0 quarters, 6 dimes, 0 nickels, 40 pennies.\n",
            "0 quarters, 6 dimes, 2 nickels, 30 pennies.\n",
            "0 quarters, 6 dimes, 3 nickels, 25 pennies.\n",
            "0 quarters, 6 dimes, 4 nickels, 20 pennies.\n",
            "0 quarters, 6 dimes, 5 nickels, 15 pennies.\n",
            "0 quarters, 6 dimes, 8 nickels, 0 pennies.\n",
            "0 quarters, 7 dimes, 0 nickels, 30 pennies.\n",
            "0 quarters, 7 dimes, 1 nickels, 25 pennies.\n",
            "0 quarters, 7 dimes, 2 nickels, 20 pennies.\n",
            "0 quarters, 7 dimes, 3 nickels, 15 pennies.\n",
            "0 quarters, 7 dimes, 5 nickels, 5 pennies.\n",
            "0 quarters, 7 dimes, 6 nickels, 0 pennies.\n",
            "0 quarters, 8 dimes, 0 nickels, 20 pennies.\n",
            "0 quarters, 8 dimes, 1 nickels, 15 pennies.\n",
            "0 quarters, 8 dimes, 2 nickels, 10 pennies.\n",
            "0 quarters, 8 dimes, 3 nickels, 5 pennies.\n",
            "0 quarters, 8 dimes, 4 nickels, 0 pennies.\n",
            "0 quarters, 9 dimes, 0 nickels, 10 pennies.\n",
            "0 quarters, 9 dimes, 1 nickels, 5 pennies.\n",
            "0 quarters, 9 dimes, 2 nickels, 0 pennies.\n",
            "0 quarters, 10 dimes, 0 nickels, 0 pennies.\n",
            "1 quarters, 0 dimes, 0 nickels, 75 pennies.\n",
            "1 quarters, 0 dimes, 1 nickels, 70 pennies.\n",
            "1 quarters, 0 dimes, 2 nickels, 65 pennies.\n",
            "1 quarters, 0 dimes, 3 nickels, 60 pennies.\n",
            "1 quarters, 0 dimes, 4 nickels, 55 pennies.\n",
            "1 quarters, 0 dimes, 5 nickels, 50 pennies.\n",
            "1 quarters, 0 dimes, 6 nickels, 45 pennies.\n",
            "1 quarters, 0 dimes, 7 nickels, 40 pennies.\n",
            "1 quarters, 0 dimes, 8 nickels, 35 pennies.\n",
            "1 quarters, 0 dimes, 9 nickels, 30 pennies.\n",
            "1 quarters, 0 dimes, 10 nickels, 25 pennies.\n",
            "1 quarters, 0 dimes, 11 nickels, 20 pennies.\n",
            "1 quarters, 0 dimes, 12 nickels, 15 pennies.\n",
            "1 quarters, 0 dimes, 13 nickels, 10 pennies.\n",
            "1 quarters, 0 dimes, 14 nickels, 5 pennies.\n",
            "1 quarters, 0 dimes, 15 nickels, 0 pennies.\n",
            "1 quarters, 1 dimes, 0 nickels, 65 pennies.\n",
            "1 quarters, 1 dimes, 1 nickels, 60 pennies.\n",
            "1 quarters, 1 dimes, 2 nickels, 55 pennies.\n",
            "1 quarters, 1 dimes, 3 nickels, 50 pennies.\n",
            "1 quarters, 1 dimes, 4 nickels, 45 pennies.\n",
            "1 quarters, 1 dimes, 5 nickels, 40 pennies.\n",
            "1 quarters, 1 dimes, 6 nickels, 35 pennies.\n",
            "1 quarters, 1 dimes, 7 nickels, 30 pennies.\n",
            "1 quarters, 1 dimes, 8 nickels, 25 pennies.\n",
            "1 quarters, 1 dimes, 9 nickels, 20 pennies.\n",
            "1 quarters, 1 dimes, 10 nickels, 15 pennies.\n",
            "1 quarters, 1 dimes, 11 nickels, 10 pennies.\n",
            "1 quarters, 1 dimes, 12 nickels, 5 pennies.\n",
            "1 quarters, 1 dimes, 13 nickels, 0 pennies.\n",
            "1 quarters, 2 dimes, 0 nickels, 55 pennies.\n",
            "1 quarters, 2 dimes, 1 nickels, 50 pennies.\n",
            "1 quarters, 2 dimes, 2 nickels, 45 pennies.\n",
            "1 quarters, 2 dimes, 3 nickels, 40 pennies.\n",
            "1 quarters, 2 dimes, 4 nickels, 35 pennies.\n",
            "1 quarters, 2 dimes, 5 nickels, 30 pennies.\n",
            "1 quarters, 2 dimes, 6 nickels, 25 pennies.\n",
            "1 quarters, 2 dimes, 7 nickels, 20 pennies.\n",
            "1 quarters, 2 dimes, 8 nickels, 15 pennies.\n",
            "1 quarters, 2 dimes, 9 nickels, 10 pennies.\n",
            "1 quarters, 2 dimes, 10 nickels, 5 pennies.\n",
            "1 quarters, 2 dimes, 11 nickels, 0 pennies.\n",
            "1 quarters, 3 dimes, 0 nickels, 45 pennies.\n",
            "1 quarters, 3 dimes, 1 nickels, 40 pennies.\n",
            "1 quarters, 3 dimes, 2 nickels, 35 pennies.\n",
            "1 quarters, 3 dimes, 3 nickels, 30 pennies.\n",
            "1 quarters, 3 dimes, 4 nickels, 25 pennies.\n",
            "1 quarters, 3 dimes, 5 nickels, 20 pennies.\n",
            "1 quarters, 3 dimes, 6 nickels, 15 pennies.\n",
            "1 quarters, 3 dimes, 8 nickels, 5 pennies.\n",
            "1 quarters, 3 dimes, 9 nickels, 0 pennies.\n",
            "1 quarters, 4 dimes, 0 nickels, 35 pennies.\n",
            "1 quarters, 4 dimes, 1 nickels, 30 pennies.\n",
            "1 quarters, 4 dimes, 2 nickels, 25 pennies.\n",
            "1 quarters, 4 dimes, 3 nickels, 20 pennies.\n",
            "1 quarters, 4 dimes, 4 nickels, 15 pennies.\n",
            "1 quarters, 4 dimes, 5 nickels, 10 pennies.\n",
            "1 quarters, 4 dimes, 6 nickels, 5 pennies.\n",
            "1 quarters, 4 dimes, 7 nickels, 0 pennies.\n",
            "1 quarters, 5 dimes, 0 nickels, 25 pennies.\n",
            "1 quarters, 5 dimes, 1 nickels, 20 pennies.\n",
            "1 quarters, 5 dimes, 2 nickels, 15 pennies.\n",
            "1 quarters, 5 dimes, 3 nickels, 10 pennies.\n",
            "1 quarters, 5 dimes, 4 nickels, 5 pennies.\n",
            "1 quarters, 5 dimes, 5 nickels, 0 pennies.\n",
            "1 quarters, 6 dimes, 0 nickels, 15 pennies.\n",
            "1 quarters, 6 dimes, 2 nickels, 5 pennies.\n",
            "1 quarters, 6 dimes, 3 nickels, 0 pennies.\n",
            "1 quarters, 7 dimes, 0 nickels, 5 pennies.\n",
            "1 quarters, 7 dimes, 1 nickels, 0 pennies.\n",
            "2 quarters, 0 dimes, 0 nickels, 50 pennies.\n",
            "2 quarters, 0 dimes, 1 nickels, 45 pennies.\n",
            "2 quarters, 0 dimes, 2 nickels, 40 pennies.\n",
            "2 quarters, 0 dimes, 3 nickels, 35 pennies.\n",
            "2 quarters, 0 dimes, 4 nickels, 30 pennies.\n",
            "2 quarters, 0 dimes, 5 nickels, 25 pennies.\n",
            "2 quarters, 0 dimes, 6 nickels, 20 pennies.\n",
            "2 quarters, 0 dimes, 7 nickels, 15 pennies.\n",
            "2 quarters, 0 dimes, 8 nickels, 10 pennies.\n",
            "2 quarters, 0 dimes, 9 nickels, 5 pennies.\n",
            "2 quarters, 0 dimes, 10 nickels, 0 pennies.\n",
            "2 quarters, 1 dimes, 0 nickels, 40 pennies.\n",
            "2 quarters, 1 dimes, 1 nickels, 35 pennies.\n",
            "2 quarters, 1 dimes, 2 nickels, 30 pennies.\n",
            "2 quarters, 1 dimes, 3 nickels, 25 pennies.\n",
            "2 quarters, 1 dimes, 4 nickels, 20 pennies.\n",
            "2 quarters, 1 dimes, 5 nickels, 15 pennies.\n",
            "2 quarters, 1 dimes, 6 nickels, 10 pennies.\n",
            "2 quarters, 1 dimes, 7 nickels, 5 pennies.\n",
            "2 quarters, 1 dimes, 8 nickels, 0 pennies.\n",
            "2 quarters, 2 dimes, 0 nickels, 30 pennies.\n",
            "2 quarters, 2 dimes, 1 nickels, 25 pennies.\n",
            "2 quarters, 2 dimes, 2 nickels, 20 pennies.\n",
            "2 quarters, 2 dimes, 3 nickels, 15 pennies.\n",
            "2 quarters, 2 dimes, 5 nickels, 5 pennies.\n",
            "2 quarters, 2 dimes, 6 nickels, 0 pennies.\n",
            "2 quarters, 3 dimes, 0 nickels, 20 pennies.\n",
            "2 quarters, 3 dimes, 1 nickels, 15 pennies.\n",
            "2 quarters, 3 dimes, 2 nickels, 10 pennies.\n",
            "2 quarters, 3 dimes, 3 nickels, 5 pennies.\n",
            "2 quarters, 3 dimes, 4 nickels, 0 pennies.\n",
            "2 quarters, 4 dimes, 0 nickels, 10 pennies.\n",
            "2 quarters, 4 dimes, 1 nickels, 5 pennies.\n",
            "2 quarters, 4 dimes, 2 nickels, 0 pennies.\n",
            "2 quarters, 5 dimes, 0 nickels, 0 pennies.\n",
            "3 quarters, 0 dimes, 0 nickels, 25 pennies.\n",
            "3 quarters, 0 dimes, 1 nickels, 20 pennies.\n",
            "3 quarters, 0 dimes, 2 nickels, 15 pennies.\n",
            "3 quarters, 0 dimes, 3 nickels, 10 pennies.\n",
            "3 quarters, 0 dimes, 4 nickels, 5 pennies.\n",
            "3 quarters, 0 dimes, 5 nickels, 0 pennies.\n",
            "3 quarters, 1 dimes, 0 nickels, 15 pennies.\n",
            "3 quarters, 1 dimes, 1 nickels, 10 pennies.\n",
            "3 quarters, 1 dimes, 2 nickels, 5 pennies.\n",
            "3 quarters, 1 dimes, 3 nickels, 0 pennies.\n",
            "3 quarters, 2 dimes, 0 nickels, 5 pennies.\n",
            "3 quarters, 2 dimes, 1 nickels, 0 pennies.\n",
            "4 quarters, 0 dimes, 0 nickels, 0 pennies.\n"
          ],
          "name": "stdout"
        }
      ]
    },
    {
      "cell_type": "markdown",
      "metadata": {
        "id": "rUPDjYiIkbgs"
      },
      "source": [
        "##### Q7. Ask the user to enter two positive integers between 1 and 100. Read those integers. Then output a multiplication table of the first number times the second number. \n",
        "\n",
        "Note: You have to ensure the entered numbers are between 1 and 100 only.\n",
        "\n",
        "```\n",
        "Please enter an integer: 5\n",
        "Please enter another integer: 20\n",
        "5 x 1 = 5\n",
        "5 x 2 = 10\n",
        "5 x 3 = 15\n",
        "…\n",
        "5 x 20 = 100\n",
        "```"
      ]
    },
    {
      "cell_type": "code",
      "metadata": {
        "id": "Qg0Orv1klHzA",
        "colab": {
          "base_uri": "https://localhost:8080/"
        },
        "outputId": "ffbf0aed-120d-4651-db3c-a4807dc6b136"
      },
      "source": [
        "# Type solution here\n",
        "int1 = input(\"Please enter an integer: \")\n",
        "int2 = input(\"Please enter another integer: \")\n",
        "\n",
        "while int1.isdigit() is False or int2.isdigit() is False or int(int1)>100 or int(int1) < 1 or int(int2)>100 or int(int2) < 1:\n",
        "   int1 = input(\"Please enter an integer between 1 and 100: \")\n",
        "   int2 = input(\"Please enter another integer between 1 and 100: \")\n",
        "\n",
        "for num in range(1,(int(int2)+1)):\n",
        "  print(int1,\"x\",num,\"=\",(int(int1)*num))\n"
      ],
      "execution_count": 51,
      "outputs": [
        {
          "output_type": "stream",
          "text": [
            "Please enter an integer: 5\n",
            "Please enter another integer: 20\n",
            "5 x 1 = 5\n",
            "5 x 2 = 10\n",
            "5 x 3 = 15\n",
            "5 x 4 = 20\n",
            "5 x 5 = 25\n",
            "5 x 6 = 30\n",
            "5 x 7 = 35\n",
            "5 x 8 = 40\n",
            "5 x 9 = 45\n",
            "5 x 10 = 50\n",
            "5 x 11 = 55\n",
            "5 x 12 = 60\n",
            "5 x 13 = 65\n",
            "5 x 14 = 70\n",
            "5 x 15 = 75\n",
            "5 x 16 = 80\n",
            "5 x 17 = 85\n",
            "5 x 18 = 90\n",
            "5 x 19 = 95\n",
            "5 x 20 = 100\n"
          ],
          "name": "stdout"
        }
      ]
    },
    {
      "cell_type": "markdown",
      "metadata": {
        "id": "SbnbPUPTlLD9"
      },
      "source": [
        "##### Q8. Write a program to ask the user to enter a password. Then check to see if it is a valid password based on these requirements -\n",
        "\n",
        "Must be at least 8 characters long\n",
        "\n",
        "Must contain both uppercase and lowercase letters\n",
        "\n",
        "Must contain at least one number between 0-9\n",
        "\n",
        "Must contain a special character -!,@,#,$\n",
        "\n",
        "If the password is not valid, ask the user to re-enter. This should continue until the user enters a valid password. After a valid password is entered, print Access Granted!\n",
        "\n",
        "```\n",
        "Please enter a password. Follow these requirements - \n",
        "a. Must be at least 8 characters long\n",
        "b. Must contain both uppercase and lowercase letters\n",
        "c. Must contain at least one number between 0-9\n",
        "d. Must contain a special character -!,@,#,$\n",
        "Password: HelloWorld1\n",
        "Invalid password. Try again!\n",
        "Password: Hello@World1\n",
        "Access Granted!\n",
        "```\n"
      ]
    },
    {
      "cell_type": "code",
      "metadata": {
        "id": "JG8ed6PcBcRa"
      },
      "source": [
        ""
      ],
      "execution_count": null,
      "outputs": []
    },
    {
      "cell_type": "code",
      "metadata": {
        "id": "OXmZ177Rl-RV",
        "colab": {
          "base_uri": "https://localhost:8080/"
        },
        "outputId": "16f3581a-1428-4d02-fe27-8edf0ebc5744"
      },
      "source": [
        "# Type solution here\n",
        "\n",
        "p = input(\"Please enter your password: \")\n",
        "\n",
        "a = False\n",
        "b = False\n",
        "c = False\n",
        "d = False\n",
        "e = False\n",
        "\n",
        "for ch in p:\n",
        "    if ch.islower() is True:\n",
        "      a = True\n",
        "    if ch.isupper() is True:\n",
        "      b = True\n",
        "    if ch.isdigit() is True:\n",
        "      c = True\n",
        "    if ch == \"!\" or \"@\" or \"#\" or \"$\":\n",
        "      d = True\n",
        "    if len(p) >= 8:\n",
        "      e = True\n",
        "\n",
        "while a is False or b is False or c is False or d is False or e is False:\n",
        "  p = input(\"Invalid password. Please try again: \")\n",
        "\n",
        "  for ch in p:\n",
        "    if ch.islower() is True:\n",
        "      a = True\n",
        "    if ch.isupper() is True:\n",
        "      b = True\n",
        "    if ch.isdigit() is True:\n",
        "      c = True\n",
        "    if ch == \"!\" or \"@\" or \"#\" or \"$\":\n",
        "      d = True\n",
        "  if len(p) >= 8:\n",
        "    e = True    \n",
        "\n",
        "  \n",
        "\n",
        "  \n"
      ],
      "execution_count": 88,
      "outputs": [
        {
          "output_type": "stream",
          "text": [
            "Please enter your password: da\n",
            "Invalid password. Please enter try again: @#DAW\n",
            "Invalid password. Please enter try again: dwaDWA\n",
            "Invalid password. Please enter try again: Ka1!\n",
            "Invalid password. Please enter try again: Ka!@12!!!!!!!\n"
          ],
          "name": "stdout"
        }
      ]
    },
    {
      "cell_type": "markdown",
      "metadata": {
        "id": "-0sdutTDnTKA"
      },
      "source": [
        "##### Q9. Given the score sheet of participants in a competition, you are required to find the runner-up score. You are given scores in a list. Find the score of the runner-up.\n",
        "\n",
        "```\n",
        "list1 - [2, 3, 6, 6, 5]\n",
        "runner_up - 5\n",
        "\n",
        "list2 - [1, 7, 5, 3, 10, 4, 5, 5, 6, 11]\n",
        "runner_up - 10\n",
        "```"
      ]
    },
    {
      "cell_type": "code",
      "metadata": {
        "id": "12YP9OaqpGRK",
        "colab": {
          "base_uri": "https://localhost:8080/"
        },
        "outputId": "a9e578a1-3b32-4dbc-b123-59e126f798ab"
      },
      "source": [
        "# Type solution here\n",
        "list1 = [2, 3, 6, 6, 5]\n",
        "newlist1 = []\n",
        "for ch in list1:\n",
        "  if ch not in newlist1:\n",
        "    newlist1.append(ch)\n",
        "newlist1.sort()\n",
        "print(\"runner_up -\",newlist1[-2])\n",
        "\n",
        "list2 = [1, 7, 5, 3, 10, 4, 5, 5, 6, 11]\n",
        "newlist2 = []\n",
        "for ch in list2:\n",
        "  if ch not in newlist2:\n",
        "    newlist2.append(ch)\n",
        "newlist2.sort()\n",
        "print(\"runner_up -\",newlist2[-2])"
      ],
      "execution_count": 94,
      "outputs": [
        {
          "output_type": "stream",
          "text": [
            "runner_up - 5\n",
            "runner_up - 10\n"
          ],
          "name": "stdout"
        }
      ]
    }
  ]
}